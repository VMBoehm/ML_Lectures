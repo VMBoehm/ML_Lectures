{
  "nbformat": 4,
  "nbformat_minor": 0,
  "metadata": {
    "colab": {
      "name": "IntroductionToVariationalAutoencoders_solutions.ipynb",
      "provenance": [],
      "collapsed_sections": [],
      "authorship_tag": "ABX9TyODw3ZP1GSUOQOiD3sP+QkX",
      "include_colab_link": true
    },
    "kernelspec": {
      "name": "python3",
      "display_name": "Python 3"
    },
    "language_info": {
      "name": "python"
    },
    "accelerator": "GPU"
  },
  "cells": [
    {
      "cell_type": "markdown",
      "metadata": {
        "id": "view-in-github",
        "colab_type": "text"
      },
      "source": [
        "<a href=\"https://colab.research.google.com/github/VMBoehm/ML_Lectures/blob/main/IntroductionToVariationalAutoencoders_solutions.ipynb\" target=\"_parent\"><img src=\"https://colab.research.google.com/assets/colab-badge.svg\" alt=\"Open In Colab\"/></a>"
      ]
    },
    {
      "cell_type": "markdown",
      "source": [
        "#**Introduction to Variational AutoEncoders (VAEs) and applications to physical data** "
      ],
      "metadata": {
        "id": "Rvu91ZyEFtBQ"
      }
    },
    {
      "cell_type": "markdown",
      "source": [
        "by Vanessa Boehm (UC Berkeley and LBNL)   \n",
        "Feb 27 2022\n",
        "\n",
        "\n",
        "---\n",
        "\n",
        "\n",
        "In this notebook we will be implementing our first Variational Autoencoder. VAEs are a useful tool for the analysis of physical data because of their probabilistic layout.   \n",
        "\n",
        "We will start from a (non-probalistic) autoencoder and convert it into its variational counterpart.\n",
        "\n",
        "## Autoencoder\n",
        "\n",
        "Recall that an Auto-Encoder consists of two networks: \n",
        "\n",
        "1.   An encoder network that takes the data, $x$, and maps it to a lower-dimensional latent space. We will call this network $f$ and its network parameters $\\phi$.\n",
        "2.   A decoder network that takes the encoded data, $z$, and maps it back to the data space. We will call the result of the reconstruction $x'$, the decoder network $g$ (for generator) and its network parameters $\\psi$.\n",
        "\n",
        "$$ x' = g_\\psi(f_\\phi(x)) \\tag{1}$$\n",
        "\n",
        "An Auto-Encoder is trained to minimize the reconstruction error between the input $x$ and the reconstruction $x'$.\n",
        "\n",
        "$$ \\mathcal{L}_{AE}(\\phi,\\psi) = ||x-g_\\psi(f_\\phi(x))||^2_2 \\tag{2}$$\n",
        "\n",
        "---\n",
        "\n",
        "## Probabilistic Interpretation (lecture recap)\n",
        "\n",
        "**In a Variational Auto-Encoder we interpret the reconstruction task  probabilistically:**\n",
        "\n",
        "Compressing the data results in a loss of information about the original data. \n",
        "If we only have access to the compressed data, we have no chance of knowing what the original data looked like *exactly*. Instead, we obtain a probability distribution over possible inputs.\n",
        "\n",
        "$$ p(x) = \\int \\mathrm{d}z\\, p(x|z) p(z) \\tag{3}$$\n",
        "\n",
        "Here, we have introduced two probability distributions on the right hand side, the liklelihood, $p(x|z)$, and the prior, $p(z)$.\n",
        "\n",
        "The likelihood arises because of the information loss in the compression.\n",
        "\n",
        "$$ x = g_\\psi(f_\\phi(x)) + \\epsilon = g_\\psi(z) + \\epsilon \\tag{4}$$ \n",
        "\n",
        "Ideally, $\\epsilon$, the part of the data that is lost in the compression, is just noise and unimportant for our final data analysis. The form of the likelihood is equal to the distribution of this noise. For example, if the noise is Gaussian (which is often the case for physical data) with covariance $\\Sigma_\\epsilon$, the likelihood is a Gaussian distribution:\n",
        "\n",
        "$$ p_{\\psi}(x|z) = \\mathcal{G}(g_\\psi(z),\\Sigma_\\epsilon) \\tag{5}$$ \n",
        "\n",
        "**Optional Question 1**   \n",
        "Starting from $p(x|z) = \\int \\mathrm{d}\\epsilon\\, p(x,\\epsilon|z)$ can you show that the likelihood follows the same distribution as $\\epsilon$?\n",
        "\n",
        "Solution:\n",
        "$p(x|z) = \\int \\mathrm{d}\\epsilon\\, p(x,\\epsilon|z) = \\int \\mathrm{d}\\epsilon\\, p(x|z,\\epsilon) p(\\epsilon) = \\int \\mathrm{d}\\epsilon\\, \\delta_D(x-g(z)-\\epsilon) p(\\epsilon) = p(x-g(z))$ \n",
        "\n",
        "The prior, $p(z)$, is the average distribution of the encoded data.\n",
        "\n",
        "$$ p(z) = \\int \\mathcal{d}x\\, p(z|x) p(x) \\tag{6}$$\n",
        "\n",
        "In a VAE, we want the prior distribution to have closed form and to be easy to sample from (for artificial data generation). We have the freedom to choose the prior distribution as a constraint. The network training will ensure it is obeyed. A common choice is a normal distribution\n",
        "\n",
        "$$ p(z) = \\mathcal{N}(0,1) \\tag{7} $$\n",
        "\n",
        "---\n",
        "\n",
        "### VAE training & Evidence Lower BOund (ELBO)\n",
        "\n",
        "To train the Variational Auto-Encoder we maximize the average log probability, $\\log p(x)$, or, as we will see now, a lower bound to this quantity.\n",
        "\n",
        "Equation (3) involves solving a fairly high dimensional integral, which is a computationally expensive and sometimes infeasible operation. This integral has to be solved not only once, but in each training step. Variational Autoencoders  solve this integral approximately by using a variational ansatz for the posterior distribution, the approximate posterior $q_\\phi(z|x)$. This distribution approximates the true posterior p(z|x) and is parameterized by the encoder parameters $\\phi$. \n",
        "\n",
        "The classic choice for the variational posterior is a multivariate Gaussian in the mean field approxiation (mean field meaning no off-diagonal terms in the covariance)\n",
        "\n",
        "$$ q_\\phi(z|x) = \\mathcal{G}(\\mu,\\sigma_i) \\tag{7} $$\n",
        "\n",
        "where the mean, $\\mu$, and variance, $\\sigma$, are determined by the encoder network. \n",
        "\n",
        "$$(\\mu, \\sigma) = f_\\phi(x) \\tag{8} $$\n",
        "\n",
        "As we saw in the lecture, the variational ansatz allows us to formulate a lower bound to $\\log p(x)$, the Evidence Lower BOund.\n",
        "\n",
        "$$ \\log p(x) >= \\int \\mathrm{d}z\\, q_\\phi(z|x) \\log{p_\\psi(x|z)} - \\int \\mathrm{d}z\\, q_\\phi(z|x) \\log{\\frac{q_\\phi(z|x)}{p(z)}} = ELBO \\tag{8}$$\n",
        "\n",
        "$$ \\mathcal{L}_{VAE}(\\phi,\\psi) = -ELBO \\tag{9}$$\n",
        "\n",
        "The ELBO consists of two terms. The first term measures the expectation value of the likelihood over the posterior. Maximizing this term encourages high quality reconstructions (similar to the autoencoder). The second term is the KL-Divergence (a distance measure) between the variational posterior and the prior. This term acts as a regularizer. It encourages posterior distributions which are similar to the prior.\n",
        "\n",
        "In VAE training the first term is evaluated stochastically, meaning that the expectation value is evaluated approximately by averaging over a number of samples from $q_\\phi(z|x)$. The second term can be either evaluated analytically (the KL divergence between to Gaussian distributions can be calculated) or stochastically. \n",
        "\n",
        "---\n",
        "\n",
        "### Reparametrization Trick\n",
        "\n",
        "Minimizing Eq. (9) requires taking gradients with respect to $\\phi$ and $\\psi$. But how do we take the gradient through an expectation value?  \n",
        "\n",
        "We use what is called the reparametrization trick. Instead of sampling from the posterior $q_\\phi(z|x)$ we sample from the parameter-independent normal distribution\n",
        "\n",
        "$$ \\zeta ∼ \\mathcal{N}(0,1) \\tag{10}$$\n",
        "\n",
        "and use the identity $z=\\zeta*\\sigma_\\phi+\\mu_\\phi$, an operation which is trivially differentiably, to obtain our samples.\n",
        "\n",
        "Pytorch will perform the reparametrization trick for us under the hood, if we use *distribution.rsample()* - so we don't have to code it explicitly.\n"
      ],
      "metadata": {
        "id": "3vg7JmIrF8PD"
      }
    },
    {
      "cell_type": "markdown",
      "source": [
        "Let' start by importing a few packages, that we will need later"
      ],
      "metadata": {
        "id": "LNZMyGZEuMJY"
      }
    },
    {
      "cell_type": "code",
      "execution_count": 2,
      "metadata": {
        "id": "7iquM2NAFde_"
      },
      "outputs": [],
      "source": [
        "import numpy as np\n",
        "import matplotlib.pyplot as plt\n",
        "\n",
        "import torch.nn as nn\n",
        "import torch.nn.functional as F\n",
        "\n",
        "import torch\n",
        "from torch.utils.data import Dataset\n",
        "from torch.utils.data import DataLoader"
      ]
    },
    {
      "cell_type": "markdown",
      "source": [
        "### Our dataset\n",
        "\n",
        "In this coding exercise we will be working with a galaxy spectra sample from the SDSS-BOSS DR 16 release. The spectra have been de-redshifted to the restframe and their magnitude has been standardized to a distance correspondingg to $z_\\lambda=0.01$. They have further been downsampled to 1000 pixels, denoised and inpainted where masks were present.\n",
        "\n",
        "(I can tell you more about the data cuts and preprocessing if you are interested, but it is not relevant for this task.)\n",
        "\n",
        "Despite being relatively high-dimensional ($d=1000$), galaxy specrtra actually reside on a lower dimensional manifold since we can compress them to much smaller dimensionality without sacrificing much reconstruction quality. \n",
        "\n",
        "This property makes them a very suitable data type for VAEs. \n",
        "\n",
        "(The same applies to image data, but images datasets are computationally more expensive to train on and they need more complicated nework architectures - things that we don't want to worry about in this exercise.)"
      ],
      "metadata": {
        "id": "yDLVu9iy4BFu"
      }
    },
    {
      "cell_type": "markdown",
      "source": [
        "STEP 1: Download the training and test datasets \n",
        "\n",
        "1.   [training set](https://drive.google.com/file/d/1oGe1zsgyCEBY1N_t-GkxxoSgVnJyTms2/view?usp=sharing)\n",
        "2.   [test set](https://drive.google.com/file/d/1wXtOpUKGj2gMff2KbBfY4x8HnzxguyXJ/view?usp=sharing)\n",
        "\n",
        "and place them in your Google Drive. (If you want to avoid having to modify the file paths in the code below, you need to create a folder called 'ML_lecture_data' and place the files in there.)\n"
      ],
      "metadata": {
        "id": "DK4VXXUUq4vi"
      }
    },
    {
      "cell_type": "markdown",
      "source": [
        "Next, we link Google Drive to this notebook"
      ],
      "metadata": {
        "id": "gEFkPFXwtJQ5"
      }
    },
    {
      "cell_type": "code",
      "source": [
        "from google.colab import drive\n",
        "import os\n",
        "drive.mount('/content/drive')"
      ],
      "metadata": {
        "colab": {
          "base_uri": "https://localhost:8080/"
        },
        "id": "RauugG-yVWQu",
        "outputId": "54c57274-39e7-4696-fcec-ee07b3a7da0c"
      },
      "execution_count": 3,
      "outputs": [
        {
          "output_type": "stream",
          "name": "stdout",
          "text": [
            "Mounted at /content/drive\n"
          ]
        }
      ]
    },
    {
      "cell_type": "markdown",
      "source": [
        "Use this line to confirm the location of your files"
      ],
      "metadata": {
        "id": "1qlleg5Ptwry"
      }
    },
    {
      "cell_type": "code",
      "source": [
        "! ls drive/MyDrive/ML_lecture_data/"
      ],
      "metadata": {
        "colab": {
          "base_uri": "https://localhost:8080/"
        },
        "id": "jYJWjZQ2VqNH",
        "outputId": "028c7324-88e2-4379-e14c-8e8963dfec37"
      },
      "execution_count": 4,
      "outputs": [
        {
          "output_type": "stream",
          "name": "stdout",
          "text": [
            "DR16_denoised_inpainted.npy\t  DR16_denoised_inpainted_train.npy\n",
            "DR16_denoised_inpainted_test.npy\n"
          ]
        }
      ]
    },
    {
      "cell_type": "markdown",
      "source": [
        "Let's set some immutable variables:\n",
        "The dimensionality of the input data and the dimensionality of the latent (encoded) space"
      ],
      "metadata": {
        "id": "wwlmXPZpxnyo"
      }
    },
    {
      "cell_type": "code",
      "source": [
        "INPUT_SIZE      = 1000\n",
        "LATENT_SIZE     = 2"
      ],
      "metadata": {
        "id": "mMnt57iDXqIJ"
      },
      "execution_count": 5,
      "outputs": []
    },
    {
      "cell_type": "markdown",
      "source": [
        "Next we create pytorch datasets from the training and test data (note that you need to change the root_dir, if you placed the data in a different folder)"
      ],
      "metadata": {
        "id": "KU4ULbV5x0wd"
      }
    },
    {
      "cell_type": "code",
      "source": [
        "class SDSS_DR16(Dataset):\n",
        "    \"\"\"De-redshifted and downsampled spectra from SDSS-BOSS DR16\"\"\"\n",
        "\n",
        "    def __init__(self, root_dir='drive/MyDrive/ML_lecture_data/', transform=True, train=True):\n",
        "        \"\"\"\n",
        "        Args:\n",
        "            root_dir (string): Directory of data file\n",
        "            transform (callable, optional): Optional transform to be applied\n",
        "                on a sample.\n",
        "        \"\"\"\n",
        "\n",
        "        if train:\n",
        "            self.data = np.load(open(os.path.join(root_dir,'DR16_denoised_inpainted_train.npy'),'rb'),allow_pickle=True)\n",
        "        else:\n",
        "            self.data = np.load(open(os.path.join(root_dir,'DR16_denoised_inpainted_test.npy'),'rb'),allow_pickle=True)\n",
        "\n",
        "        self.data = torch.as_tensor(self.data)\n",
        "\n",
        "\n",
        "    def __len__(self):\n",
        "        return len(self.data)\n",
        "\n",
        "    def __getitem__(self, idx):\n",
        "        if torch.is_tensor(idx):\n",
        "            idx = idx.tolist()\n",
        "\n",
        "        sample = self.data[idx]\n",
        "\n",
        "        return sample\n",
        "\n",
        "\n",
        "\n",
        "\n",
        "training_data = SDSS_DR16(train=True)\n",
        "test_data     = SDSS_DR16(train=False)"
      ],
      "metadata": {
        "id": "WhaWK_EWF7R_"
      },
      "execution_count": 6,
      "outputs": []
    },
    {
      "cell_type": "markdown",
      "source": [
        "Next we define our encoder and decoder networks. We use a very simple MLP, with two linear layers and one non-linear activation function. "
      ],
      "metadata": {
        "id": "rXtpdS3OyG5Y"
      }
    },
    {
      "cell_type": "code",
      "source": [
        "class Encoder(nn.Module):\n",
        "\n",
        "    def __init__(self, seed=853):\n",
        "        super(Encoder, self).__init__()\n",
        "        self.seed = torch.manual_seed(seed)\n",
        "        self.fc1 = nn.Linear(INPUT_SIZE,50)\n",
        "        self.fc2 = nn.Linear(50,LATENT_SIZE)\n",
        "\n",
        "    # this defines a forward pass of the network (=\"applying\" the network to some input data)\n",
        "    def forward(self, x):\n",
        "        x      = torch.nn.LeakyReLU()(self.fc1(x))\n",
        "        z      = self.fc2(x)\n",
        "        return z\n",
        "\n",
        "class Decoder(nn.Module):\n",
        "\n",
        "    def __init__(self, seed=620):\n",
        "        super(Decoder, self).__init__()\n",
        "        self.seed = torch.manual_seed(seed)\n",
        "        self.fc1 = nn.Linear(LATENT_SIZE,50)\n",
        "        self.fc2 = nn.Linear(50,INPUT_SIZE)\n",
        "\n",
        "\n",
        "    def forward(self, z):\n",
        "        z = torch.nn.LeakyReLU()(self.fc1(z))\n",
        "        x = self.fc2(z)\n",
        "        return x"
      ],
      "metadata": {
        "id": "J1udif2UYQOw"
      },
      "execution_count": 7,
      "outputs": []
    },
    {
      "cell_type": "markdown",
      "source": [
        "Having defined the encoder and decoder network, we can move on to define the Autoencoder."
      ],
      "metadata": {
        "id": "wt_mADqDy3cD"
      }
    },
    {
      "cell_type": "code",
      "source": [
        "class Autoencoder(nn.Module):\n",
        "    def __init__(self):\n",
        "        super(Autoencoder, self).__init__()\n",
        "        # here we are creatin instances of the Encoder and Decoder class\n",
        "        self.encoder = Encoder()\n",
        "        self.decoder = Decoder()\n",
        "\n",
        "    def forward(self, x):\n",
        "        z = self.encoder(x)\n",
        "        x = self.decoder(z)\n",
        "        return x"
      ],
      "metadata": {
        "id": "cGzcsBeeau1t"
      },
      "execution_count": 9,
      "outputs": []
    },
    {
      "cell_type": "code",
      "source": [
        "# This creates an instance of the Autoencoder class\n",
        "AE = Autoencoder()"
      ],
      "metadata": {
        "id": "I2yyNsVUcNR-"
      },
      "execution_count": 10,
      "outputs": []
    },
    {
      "cell_type": "markdown",
      "source": [
        "Now that we have defined our model, the next step is to train it. This is what a generic training loop looks like:"
      ],
      "metadata": {
        "id": "zEuNOP4N0X0O"
      }
    },
    {
      "cell_type": "code",
      "source": [
        "# the training loop takes a function that loads the data batch by batch, a model to train, a loss function to train the model on and an optimizer\n",
        "def train_loop(dataloader, model, loss_fn, optimizer):\n",
        "    size = len(dataloader.dataset)\n",
        "    losses = []\n",
        "    # iterate over the dataset\n",
        "    for batch, X in enumerate(dataloader):\n",
        "        # Compute prediction of the model (in case of the AE the prediction is the reconstructed data)\n",
        "        pred = model(X)\n",
        "        # Compute the loss function (in case of the AE this is the L2 distance to the input data)\n",
        "        loss = loss_fn(pred,X)\n",
        "\n",
        "        # Backpropagation; this is where we take the gradient and update the network parameters\n",
        "        optimizer.zero_grad()\n",
        "        loss.backward()\n",
        "        optimizer.step()\n",
        "        \n",
        "        # here we keep track of the loss\n",
        "        if batch % 500 == 0:\n",
        "            loss, current = loss.item(), batch * len(X)\n",
        "            losses.append(loss)\n",
        "            print(f\"loss: {loss:>7f}  [{current:>5d}/{size:>5d}]\")\n",
        "    \n",
        "    return losses\n",
        "\n",
        "\n",
        "# the test loop is similar to the training loop, only that we don't take any gradients/don't update the network parameters, but only evaluate\n",
        "def test_loop(dataloader, model, loss_fn):\n",
        "    size = len(dataloader.dataset)\n",
        "    num_batches = len(dataloader)\n",
        "    test_loss =  0\n",
        "    with torch.no_grad():\n",
        "        for X in dataloader:\n",
        "            pred = model(X)\n",
        "            test_loss += loss_fn(pred, X).item()\n",
        "\n",
        "    test_loss /= num_batches\n",
        "    print(f\" Avg loss: {test_loss:>8f} \\n\")\n",
        "\n",
        "    return test_loss\n"
      ],
      "metadata": {
        "id": "lH1elQeObtEE"
      },
      "execution_count": 11,
      "outputs": []
    },
    {
      "cell_type": "markdown",
      "source": [
        "In the next cell we set the training parameters, define the loss function and create DataLoaders. Pytorch DataLoaders manage the data loading for us (break the dataset into batches, keep track of epochs, reshuffle the data after each epoch) "
      ],
      "metadata": {
        "id": "9KqrUXUY3KW-"
      }
    },
    {
      "cell_type": "code",
      "source": [
        "BATCHSIZE       = 128\n",
        "BATCHSIZE_TEST  = 256\n",
        "LEARNING_RATE   = 1e-3\n",
        "\n",
        "# MeanSquaredError (L2) Loss\n",
        "loss_fn         = nn.MSELoss()\n",
        "# Adam Optimizer\n",
        "optimizer       = torch.optim.Adam(AE.parameters(), lr=LEARNING_RATE)\n",
        "\n",
        "# Dataloaders\n",
        "train_dataloader = DataLoader(training_data, batch_size=BATCHSIZE, shuffle=True)\n",
        "test_dataloader  = DataLoader(test_data, batch_size=BATCHSIZE_TEST, shuffle=True)"
      ],
      "metadata": {
        "id": "S9brCNsq0m8N"
      },
      "execution_count": 12,
      "outputs": []
    },
    {
      "cell_type": "markdown",
      "source": [
        "It's finally time for training:"
      ],
      "metadata": {
        "id": "zrVfwZ6x3ytf"
      }
    },
    {
      "cell_type": "code",
      "source": [
        "EPOCHS = 10\n",
        "\n",
        "train_loss = []\n",
        "test_loss  = []\n",
        "for t in range(EPOCHS):\n",
        "    print(f\"Epoch {t+1}\\n-------------------------------\")\n",
        "    train_loss.append(train_loop(train_dataloader, AE, loss_fn, optimizer))\n",
        "    test_loss.append(test_loop(test_dataloader, AE, loss_fn))\n",
        "print(\"Done!\")"
      ],
      "metadata": {
        "colab": {
          "base_uri": "https://localhost:8080/"
        },
        "id": "wO2GEEoEffAk",
        "outputId": "8468cfec-0e3e-479c-eefe-cacfe36e0bf8"
      },
      "execution_count": 13,
      "outputs": [
        {
          "output_type": "stream",
          "name": "stdout",
          "text": [
            "Epoch 1\n",
            "-------------------------------\n",
            "loss: 1.897722  [    0/100000]\n",
            "loss: 0.014158  [64000/100000]\n",
            " Avg loss: 0.019276 \n",
            "\n",
            "Epoch 2\n",
            "-------------------------------\n",
            "loss: 0.038577  [    0/100000]\n",
            "loss: 0.005085  [64000/100000]\n",
            " Avg loss: 0.031908 \n",
            "\n",
            "Epoch 3\n",
            "-------------------------------\n",
            "loss: 0.023836  [    0/100000]\n",
            "loss: 0.009034  [64000/100000]\n",
            " Avg loss: 0.021726 \n",
            "\n",
            "Epoch 4\n",
            "-------------------------------\n",
            "loss: 0.042028  [    0/100000]\n",
            "loss: 0.012721  [64000/100000]\n",
            " Avg loss: 0.019283 \n",
            "\n",
            "Epoch 5\n",
            "-------------------------------\n",
            "loss: 0.005000  [    0/100000]\n",
            "loss: 0.018683  [64000/100000]\n",
            " Avg loss: 0.015865 \n",
            "\n",
            "Epoch 6\n",
            "-------------------------------\n",
            "loss: 0.019513  [    0/100000]\n",
            "loss: 0.003738  [64000/100000]\n",
            " Avg loss: 0.015180 \n",
            "\n",
            "Epoch 7\n",
            "-------------------------------\n",
            "loss: 0.022637  [    0/100000]\n",
            "loss: 0.022227  [64000/100000]\n",
            " Avg loss: 0.023163 \n",
            "\n",
            "Epoch 8\n",
            "-------------------------------\n",
            "loss: 0.018685  [    0/100000]\n",
            "loss: 0.015868  [64000/100000]\n",
            " Avg loss: 0.014543 \n",
            "\n",
            "Epoch 9\n",
            "-------------------------------\n",
            "loss: 0.005713  [    0/100000]\n",
            "loss: 0.004822  [64000/100000]\n",
            " Avg loss: 0.012692 \n",
            "\n",
            "Epoch 10\n",
            "-------------------------------\n",
            "loss: 0.013575  [    0/100000]\n",
            "loss: 0.011119  [64000/100000]\n",
            " Avg loss: 0.012762 \n",
            "\n",
            "Done!\n"
          ]
        }
      ]
    },
    {
      "cell_type": "markdown",
      "source": [
        "Let's see how the model is doing. Let's look at \n",
        "\n",
        "1.   Training and test loss \n",
        "2.   Final reconstruction quality"
      ],
      "metadata": {
        "id": "Da7lOSzE4J6f"
      }
    },
    {
      "cell_type": "code",
      "source": [
        "# losses\n",
        "length = len(np.asarray(train_loss).flatten())\n",
        "plt.figure()\n",
        "plt.plot(np.linspace(0,length*500,length), np.asarray(train_loss).flatten(),label='training set')\n",
        "plt.plot(np.linspace(500,(length)*500,len(test_loss)),test_loss,label='test set')\n",
        "plt.xlabel('training step')\n",
        "plt.ylabel('loss')\n",
        "plt.show()\n",
        "\n",
        "### zoom in \n",
        "length = len(np.asarray(train_loss).flatten())\n",
        "plt.figure()\n",
        "plt.plot(np.linspace(0,length*500,length), np.asarray(train_loss).flatten(),label='training set')\n",
        "plt.plot(np.linspace(500,(length)*500,len(test_loss)),test_loss,label='test set')\n",
        "plt.xlabel('training step')\n",
        "plt.ylabel('loss')\n",
        "plt.ylim(0,0.1)\n",
        "plt.show()"
      ],
      "metadata": {
        "colab": {
          "base_uri": "https://localhost:8080/",
          "height": 545
        },
        "id": "24qdCadyhXVU",
        "outputId": "53c285ce-76d8-4acd-dcf2-8008bbadaf54"
      },
      "execution_count": 16,
      "outputs": [
        {
          "output_type": "display_data",
          "data": {
            "image/png": "[encoded data removed]",
            "text/plain": [
              "<Figure size 432x288 with 1 Axes>"
            ]
          },
          "metadata": {
            "needs_background": "light"
          }
        },
        {
          "output_type": "display_data",
          "data": {
            "image/png": "[encoded data removed]",
            "text/plain": [
              "<Figure size 432x288 with 1 Axes>"
            ]
          },
          "metadata": {
            "needs_background": "light"
          }
        }
      ]
    },
    {
      "cell_type": "markdown",
      "source": [
        "You can see that the model had a really easy time learning the task and that we haven't overfitted yet"
      ],
      "metadata": {
        "id": "GZA9Vz3-5Di-"
      }
    },
    {
      "cell_type": "markdown",
      "source": [
        "Now, let's look at the reconstructions:"
      ],
      "metadata": {
        "id": "f4hzPWZP5Um8"
      }
    },
    {
      "cell_type": "code",
      "source": [
        "for X in dataloader"
      ],
      "metadata": {
        "id": "GVVJ6vwUASd1"
      },
      "execution_count": null,
      "outputs": []
    },
    {
      "cell_type": "markdown",
      "source": [
        "### ***Variational Autoencoder***"
      ],
      "metadata": {
        "id": "GtndaU2ubVov"
      }
    },
    {
      "cell_type": "code",
      "source": [
        "class Encoder(nn.Module):\n",
        "\n",
        "    def __init__(self, seed=853):\n",
        "        super(Encoder, self).__init__()\n",
        "        self.seed = torch.manual_seed(seed)\n",
        "        self.fc1 = nn.Linear(INPUT_SIZE,50)\n",
        "        self.fc2 = nn.Linear(50,LATENT_SIZE*2)\n",
        "\n",
        "    def forward(self, x):\n",
        "        x      = torch.nn.LeakyReLU()(self.fc1(x))\n",
        "        x      = self.fc2(x)\n",
        "        z, std = torch.split(x, 2,dim=1)\n",
        "        std    = torch.exp(std) + 1e-8\n",
        "        return z, std\n",
        "\n",
        "class Decoder(nn.Module):\n",
        "\n",
        "    def __init__(self, seed=620):\n",
        "        super(Decoder, self).__init__()\n",
        "        self.seed = torch.manual_seed(seed)\n",
        "        self.fc1 = nn.Linear(LATENT_SIZE,50)\n",
        "        self.fc2 = nn.Linear(50,INPUT_SIZE)\n",
        "\n",
        "    def forward(self, z):\n",
        "        z = torch.nn.LeakyReLU()(self.fc1(z))\n",
        "        x = self.fc2(z)\n",
        "        return x"
      ],
      "metadata": {
        "id": "AKMNpHaeb93k"
      },
      "execution_count": null,
      "outputs": []
    },
    {
      "cell_type": "code",
      "source": [
        "# https://pytorch.org/docs/stable/distributions.html#normal\n",
        "from torch.distributions import Normal as Normal "
      ],
      "metadata": {
        "id": "s8pX6vYGS0nJ"
      },
      "execution_count": null,
      "outputs": []
    },
    {
      "cell_type": "code",
      "source": [
        "class VariationalAutoencoder(nn.Module):\n",
        "    def __init__(self, sample_size, sigma):\n",
        "        super(VariationalAutoencoder, self).__init__()\n",
        "        self.encoder = Encoder()\n",
        "        self.decoder = Decoder()\n",
        "        self.sample_size = sample_size\n",
        "        self.sigma       = sigma\n",
        "        self.prior       = Normal(torch.zeros(LATENT_SIZE), torch.ones(LATENT_SIZE))\n",
        "\n",
        "    def get_log_likelihood(self,recons,x):\n",
        "        ll = Normal(x, self.sigma)\n",
        "        log_p = torch.sum(ll.log_prob(recons),dim=-1)\n",
        "        return torch.mean(log_p,dim=0)\n",
        "\n",
        "    def get_q(self,x):\n",
        "        mu, std = self.encoder(x)\n",
        "        self.q = Normal(mu, std)\n",
        "        return True\n",
        "\n",
        "    def sample_q(self):\n",
        "        z_sample = self.q.rsample(torch.Size([self.sample_size]))\n",
        "\n",
        "        return z_sample\n",
        "\n",
        "    def stochastic_kl_divergence(self,z_sample):\n",
        "        \n",
        "        return torch.mean(torch.sum(self.q.log_prob(z_sample),dim=-1)-torch.sum(self.prior.log_prob(z_sample),dim=-1), dim=0)\n",
        "\n",
        "    def forward(self, x):\n",
        "\n",
        "        self.get_q(x)\n",
        "        samples = self.sample_q()\n",
        "        recons  = self.decoder(samples)\n",
        "        log_likelihood = self.get_log_likelihood(recons,x)\n",
        "        kl      = self.stochastic_kl_divergence(samples)\n",
        "        return log_likelihood, kl"
      ],
      "metadata": {
        "id": "IblX0IgkbcMI"
      },
      "execution_count": null,
      "outputs": []
    },
    {
      "cell_type": "code",
      "source": [
        "VAE = VariationalAutoencoder(16,sigma=0.05)\n",
        "\n",
        "optimizer = torch.optim.Adam(VAE.parameters(), lr=LEARNING_RATE)"
      ],
      "metadata": {
        "id": "2DYaUij-WkK3"
      },
      "execution_count": null,
      "outputs": []
    },
    {
      "cell_type": "code",
      "source": [
        "def negative_ELBO(avg_log_likelihood,kl):\n",
        "\n",
        "    negative_ELBO = - torch.mean(avg_log_likelihood-kl)\n",
        "\n",
        "    return negative_ELBO"
      ],
      "metadata": {
        "id": "zw8MYTJWW4N8"
      },
      "execution_count": null,
      "outputs": []
    },
    {
      "cell_type": "code",
      "source": [
        "\n",
        "\n",
        "def train_loop(dataloader, model, loss_fn, optimizer):\n",
        "    size = len(dataloader.dataset)\n",
        "    losses = []\n",
        "    for batch, X in enumerate(dataloader):\n",
        "        # Compute prediction and loss\n",
        "        log_likelihood, kl = model(X)\n",
        "        loss = loss_fn(log_likelihood,kl)\n",
        "\n",
        "        # Backpropagation\n",
        "        optimizer.zero_grad()\n",
        "        loss.backward()\n",
        "        optimizer.step()\n",
        "        \n",
        "\n",
        "        if batch % 500 == 0:\n",
        "            loss, current = loss.item(), batch * len(X)\n",
        "            losses.append(loss)\n",
        "            print(f\"loss: {loss:>7f}  [{current:>5d}/{size:>5d}]\")\n",
        "    \n",
        "    return losses\n",
        "\n",
        "\n",
        "def test_loop(dataloader, model, loss_fn):\n",
        "    size = len(dataloader.dataset)\n",
        "    num_batches = len(dataloader)\n",
        "    test_loss, log_likelihood, nkl, recon_error = 0, 0, 0, 0\n",
        "\n",
        "    with torch.no_grad():\n",
        "        for X in dataloader:\n",
        "            log_likelihood, kl = model(X)\n",
        "            recon              = model.decoder(model.encoder(X)[0])\n",
        "            test_loss += loss_fn(log_likelihood,kl).item()\n",
        "            test_loss += loss_fn(log_likelihood,kl).item()\n",
        "\n",
        "    test_loss /= num_batches\n",
        "    print(f\" Avg loss: {test_loss:>8f} \\n\")\n",
        "\n",
        "    return test_loss\n"
      ],
      "metadata": {
        "id": "0yjd0yE4WrKc"
      },
      "execution_count": null,
      "outputs": []
    },
    {
      "cell_type": "code",
      "source": [
        "epochs = 10\n",
        "\n",
        "train_loss = []\n",
        "test_loss  = []\n",
        "for t in range(epochs):\n",
        "    print(f\"Epoch {t+1}\\n-------------------------------\")\n",
        "    train_loss.append(train_loop(train_dataloader, VAE, negative_ELBO, optimizer))\n",
        "    test_loss.append(test_loop(valid_dataloader, VAE, negative_ELBO))\n",
        "print(\"Done!\")"
      ],
      "metadata": {
        "colab": {
          "base_uri": "https://localhost:8080/"
        },
        "id": "8Udr9UnLXmJf",
        "outputId": "fff79418-c558-481e-b5e1-d3ff5a98b120"
      },
      "execution_count": null,
      "outputs": [
        {
          "output_type": "stream",
          "name": "stdout",
          "text": [
            "Epoch 1\n",
            "-------------------------------\n",
            "loss: 653572.750000  [    0/80000]\n",
            "loss: -279.123627  [64000/80000]\n",
            " Avg loss: 3836.217502 \n",
            "\n",
            "Epoch 2\n",
            "-------------------------------\n",
            "loss: 599.784119  [    0/80000]\n",
            "loss: -582.502808  [64000/80000]\n",
            " Avg loss: 3024.402248 \n",
            "\n",
            "Epoch 3\n",
            "-------------------------------\n",
            "loss: 3045.066895  [    0/80000]\n",
            "loss: -292.454681  [64000/80000]\n",
            " Avg loss: 2354.063658 \n",
            "\n",
            "Epoch 4\n",
            "-------------------------------\n",
            "loss: 4205.329590  [    0/80000]\n",
            "loss: 23452.093750  [64000/80000]\n",
            " Avg loss: 4062.760802 \n",
            "\n",
            "Epoch 5\n",
            "-------------------------------\n",
            "loss: 6039.985352  [    0/80000]\n",
            "loss: 6312.842773  [64000/80000]\n",
            " Avg loss: 1920.672691 \n",
            "\n",
            "Epoch 6\n",
            "-------------------------------\n",
            "loss: 6556.687500  [    0/80000]\n",
            "loss: 316.593414  [64000/80000]\n",
            " Avg loss: 1728.253586 \n",
            "\n",
            "Epoch 7\n",
            "-------------------------------\n",
            "loss: 1260.603882  [    0/80000]\n",
            "loss: -1033.803345  [64000/80000]\n",
            " Avg loss: 1708.271723 \n",
            "\n",
            "Epoch 8\n",
            "-------------------------------\n",
            "loss: 642.583252  [    0/80000]\n",
            "loss: 293.305359  [64000/80000]\n",
            " Avg loss: 3456.394273 \n",
            "\n",
            "Epoch 9\n",
            "-------------------------------\n",
            "loss: -979.214050  [    0/80000]\n",
            "loss: -1111.840332  [64000/80000]\n",
            " Avg loss: 1880.932244 \n",
            "\n",
            "Epoch 10\n",
            "-------------------------------\n",
            "loss: 1865.286621  [    0/80000]\n",
            "loss: 618.118958  [64000/80000]\n",
            " Avg loss: 2385.888702 \n",
            "\n",
            "Done!\n"
          ]
        }
      ]
    },
    {
      "cell_type": "code",
      "source": [
        "plt.figure()\n",
        "plt.plot(np.asarray(train_loss).flatten())\n",
        "plt.show()\n",
        "\n",
        "plt.plot(np.linspace(0,len(np.asarray(train_loss).flatten()),len(test_loss)),test_loss)\n",
        "#plt.ylim(0,0.1)\n",
        "plt.show()"
      ],
      "metadata": {
        "id": "7syew_eAXpfj",
        "colab": {
          "base_uri": "https://localhost:8080/",
          "height": 513
        },
        "outputId": "e09c6715-02d0-4b63-bab8-318303efed21"
      },
      "execution_count": null,
      "outputs": [
        {
          "output_type": "display_data",
          "data": {
            "image/png": "[encoded data removed]",
            "text/plain": [
              "<Figure size 432x288 with 1 Axes>"
            ]
          },
          "metadata": {
            "needs_background": "light"
          }
        },
        {
          "output_type": "display_data",
          "data": {
            "image/png": "[encoded data removed]",
            "text/plain": [
              "<Figure size 432x288 with 1 Axes>"
            ]
          },
          "metadata": {
            "needs_background": "light"
          }
        }
      ]
    },
    {
      "cell_type": "code",
      "source": [
        ""
      ],
      "metadata": {
        "id": "9zbCDqW93Vwp"
      },
      "execution_count": null,
      "outputs": []
    }
  ]
}